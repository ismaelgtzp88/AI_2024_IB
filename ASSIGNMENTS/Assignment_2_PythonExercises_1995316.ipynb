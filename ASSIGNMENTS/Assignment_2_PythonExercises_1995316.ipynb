{
  "nbformat": 4,
  "nbformat_minor": 0,
  "metadata": {
    "colab": {
      "provenance": []
    },
    "kernelspec": {
      "name": "python3",
      "display_name": "Python 3"
    },
    "language_info": {
      "name": "python"
    }
  },
  "cells": [
    {
      "cell_type": "markdown",
      "source": [
        "Assignment 2: Basics in Python\n",
        "\n",
        "Ismael Gutierrez Puente 1995316\n",
        "\n",
        "AI Thursday N4-N6"
      ],
      "metadata": {
        "id": "Rd_20aQVNSc0"
      }
    },
    {
      "cell_type": "markdown",
      "source": [
        "**FIRST EXERCISE: TEXT ANALYSIS TOOL**"
      ],
      "metadata": {
        "id": "D0dy9zslNci6"
      }
    },
    {
      "cell_type": "code",
      "execution_count": null,
      "metadata": {
        "id": "Q5X3LiUB-Gla",
        "colab": {
          "base_uri": "https://localhost:8080/"
        },
        "outputId": "8533661a-aa5f-4483-8b65-16cd45d02cd5"
      },
      "outputs": [
        {
          "output_type": "stream",
          "name": "stderr",
          "text": [
            "[nltk_data] Downloading package punkt to /root/nltk_data...\n",
            "[nltk_data]   Package punkt is already up-to-date!\n",
            "[nltk_data] Downloading package stopwords to /root/nltk_data...\n",
            "[nltk_data]   Package stopwords is already up-to-date!\n"
          ]
        },
        {
          "output_type": "stream",
          "name": "stdout",
          "text": [
            "Introduce the text to analysis: hola\n",
            "\n",
            "Text Analysis:\n",
            "Total of words: 1\n",
            "Total of unique words: 1\n",
            "The most common word: hola whit 1 appears.\n"
          ]
        }
      ],
      "source": [
        "import nltk\n",
        "from nltk.tokenize import word_tokenize\n",
        "from nltk.corpus import stopwords\n",
        "from collections import Counter\n",
        "\n",
        "nltk.download('punkt')\n",
        "nltk.download('stopwords')\n",
        "\n",
        "def text_analysis(text):\n",
        "    tokens = word_tokenize(text.lower())\n",
        "\n",
        "    # Empty words elimination (stop words)\n",
        "    stop_words = set(stopwords.words('english'))\n",
        "    filtered_tokens = [word for word in tokens if word.isalnum() and word not in stop_words]\n",
        "\n",
        "    # word frequence counter\n",
        "    word_freq = Counter(filtered_tokens)\n",
        "\n",
        "    # most common word\n",
        "    most_common_word = word_freq.most_common(1)[0]\n",
        "\n",
        "    # total number of words\n",
        "    total_words = sum(word_freq.values())\n",
        "\n",
        "    # number of unique words\n",
        "    unique_words = len(word_freq)\n",
        "\n",
        "    return {\n",
        "        \"total_words\": total_words,\n",
        "        \"unique_words\": unique_words,\n",
        "        \"most_common_word\": most_common_word\n",
        "    }\n",
        "\n",
        "if __name__ == \"__main__\":\n",
        "    text = input(\"Introduce the text to analysis: \")\n",
        "    analysis_result = text_analysis(text)\n",
        "    print(\"\\nText Analysis:\")\n",
        "    print(\"Total of words:\", analysis_result[\"total_words\"])\n",
        "    print(\"Total of unique words:\", analysis_result[\"unique_words\"])\n",
        "    print(\"The most common word:\", analysis_result[\"most_common_word\"][0], \"whit\", analysis_result[\"most_common_word\"][1], \"appears.\")"
      ]
    },
    {
      "cell_type": "markdown",
      "source": [
        "**SECOND EXERCISE: HANGMAN GAME**"
      ],
      "metadata": {
        "id": "RfZZPyY-c8ie"
      }
    },
    {
      "cell_type": "code",
      "source": [
        "import random\n",
        "\n",
        "def choose_word():\n",
        "    words = [\"apple\", \"banana\", \"orange\", \"grape\", \"pineapple\", \"watermelon\", \"strawberry\", \"blueberry\", \"kiwi\", \"peach\"]\n",
        "    return random.choice(words)\n",
        "\n",
        "def display_word(word, guessed_letters):\n",
        "    displayed_word = \"\"\n",
        "    for letter in word:\n",
        "        if letter in guessed_letters:\n",
        "            displayed_word += letter\n",
        "        else:\n",
        "            displayed_word += \"_\"\n",
        "    return displayed_word\n",
        "\n",
        "def hangman():\n",
        "    print(\"Welcome to Hangman!\")\n",
        "    secret_word = choose_word()\n",
        "    guessed_letters = []\n",
        "    attempts = 6\n",
        "\n",
        "    while True:\n",
        "        print(\"\\nAttempts left:\", attempts)\n",
        "        print(\"Word:\", display_word(secret_word, guessed_letters))\n",
        "\n",
        "        if \"_\" not in display_word(secret_word, guessed_letters):\n",
        "            print(\"Congratulations! You guessed the word:\", secret_word)\n",
        "            break\n",
        "\n",
        "        if attempts == 0:\n",
        "            print(\"You ran out of attempts! The word was:\", secret_word)\n",
        "            break\n",
        "\n",
        "        guess = input(\"Guess a letter: \").lower()\n",
        "\n",
        "        if guess in guessed_letters:\n",
        "            print(\"You've already guessed that letter.\")\n",
        "        elif guess in secret_word:\n",
        "            print(\"Good guess!\")\n",
        "            guessed_letters.append(guess)\n",
        "        else:\n",
        "            print(\"Incorrect guess!\")\n",
        "            guessed_letters.append(guess)\n",
        "            attempts -= 1\n",
        "\n",
        "if __name__ == \"__main__\":\n",
        "    hangman()"
      ],
      "metadata": {
        "colab": {
          "base_uri": "https://localhost:8080/"
        },
        "id": "50P2IjmYc7Dx",
        "outputId": "85128223-ada5-401c-9b75-e9820af8ede0"
      },
      "execution_count": null,
      "outputs": [
        {
          "output_type": "stream",
          "name": "stdout",
          "text": [
            "Welcome to Hangman!\n",
            "\n",
            "Attempts left: 6\n",
            "Word: __________\n",
            "Guess a letter: A\n",
            "Good guess!\n",
            "\n",
            "Attempts left: 6\n",
            "Word: ___a______\n",
            "Guess a letter: w\n",
            "Good guess!\n",
            "\n",
            "Attempts left: 6\n",
            "Word: ___aw_____\n",
            "Guess a letter: e\n",
            "Good guess!\n",
            "\n",
            "Attempts left: 6\n",
            "Word: ___aw_e___\n",
            "Guess a letter: t\n",
            "Good guess!\n",
            "\n",
            "Attempts left: 6\n",
            "Word: _t_aw_e___\n",
            "Guess a letter: p\n",
            "Incorrect guess!\n",
            "\n",
            "Attempts left: 5\n",
            "Word: _t_aw_e___\n",
            "Guess a letter: i\n",
            "Incorrect guess!\n",
            "\n",
            "Attempts left: 4\n",
            "Word: _t_aw_e___\n",
            "Guess a letter: l\n",
            "Incorrect guess!\n",
            "\n",
            "Attempts left: 3\n",
            "Word: _t_aw_e___\n",
            "Guess a letter: o\n",
            "Incorrect guess!\n",
            "\n",
            "Attempts left: 2\n",
            "Word: _t_aw_e___\n",
            "Guess a letter: c\n",
            "Incorrect guess!\n",
            "\n",
            "Attempts left: 1\n",
            "Word: _t_aw_e___\n",
            "Guess a letter: m\n",
            "Incorrect guess!\n",
            "\n",
            "Attempts left: 0\n",
            "Word: _t_aw_e___\n",
            "You ran out of attempts! The word was: strawberry\n"
          ]
        }
      ]
    },
    {
      "cell_type": "markdown",
      "source": [
        "**THIRD EXERCISE: NUMBER GUESSING GAME**"
      ],
      "metadata": {
        "id": "5BQXK7-yfFV7"
      }
    },
    {
      "cell_type": "code",
      "source": [
        "import random\n",
        "\n",
        "def guess_the_number():\n",
        "    target_number = random.randint(1, 100)\n",
        "    attempts = 0\n",
        "\n",
        "    print(\"Welcome to Guess the Number!\")\n",
        "\n",
        "    while True:\n",
        "        guess = input(\"Guess the number (between 1 and 100): \")\n",
        "\n",
        "        try:\n",
        "            guess = int(guess)\n",
        "        except ValueError:\n",
        "            print(\"Please enter number.\")\n",
        "            continue\n",
        "\n",
        "        attempts += 1\n",
        "\n",
        "        if guess < target_number:\n",
        "            print(\"higher.\")\n",
        "        elif guess > target_number:\n",
        "            print(\"lower.\")\n",
        "        else:\n",
        "            print(f\"Congratulations! You guessed the number {target_number} in {attempts} attempts.\")\n",
        "            break\n",
        "\n",
        "if __name__ == \"__main__\":\n",
        "    guess_the_number()"
      ],
      "metadata": {
        "colab": {
          "base_uri": "https://localhost:8080/"
        },
        "id": "uX-IUUv-fQuR",
        "outputId": "42012b65-c455-4aea-e896-27792d7ab704"
      },
      "execution_count": null,
      "outputs": [
        {
          "output_type": "stream",
          "name": "stdout",
          "text": [
            "Welcome to Guess the Number!\n",
            "Guess the number (between 1 and 100): 3\n",
            "higher.\n",
            "Guess the number (between 1 and 100): 12\n",
            "higher.\n",
            "Guess the number (between 1 and 100): 56\n",
            "higher.\n",
            "Guess the number (between 1 and 100): 89\n",
            "lower.\n",
            "Guess the number (between 1 and 100): 67\n",
            "higher.\n",
            "Guess the number (between 1 and 100): 76\n",
            "lower.\n",
            "Guess the number (between 1 and 100): 73\n",
            "lower.\n",
            "Guess the number (between 1 and 100): 70\n",
            "higher.\n",
            "Guess the number (between 1 and 100): 71\n",
            "Congratulations! You guessed the number 71 in 9 attempts.\n"
          ]
        }
      ]
    }
  ]
}